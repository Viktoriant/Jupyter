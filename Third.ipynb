{
  "nbformat": 4,
  "nbformat_minor": 0,
  "metadata": {
    "colab": {
      "provenance": [],
      "authorship_tag": "ABX9TyPw/lziL1CG8AiVRThdWkPV",
      "include_colab_link": true
    },
    "kernelspec": {
      "name": "python3",
      "display_name": "Python 3"
    },
    "language_info": {
      "name": "python"
    }
  },
  "cells": [
    {
      "cell_type": "markdown",
      "metadata": {
        "id": "view-in-github",
        "colab_type": "text"
      },
      "source": [
        "<a href=\"https://colab.research.google.com/github/Viktoriant/Jupyter/blob/Develop/third.ipynb\" target=\"_parent\"><img src=\"https://colab.research.google.com/assets/colab-badge.svg\" alt=\"Open In Colab\"/></a>"
      ]
    },
    {
      "cell_type": "markdown",
      "source": [
        "# Третий файл"
      ],
      "metadata": {
        "id": "F0SOqepJKP8R"
      }
    },
    {
      "cell_type": "code",
      "execution_count": null,
      "metadata": {
        "colab": {
          "base_uri": "https://localhost:8080/"
        },
        "id": "8S8oWFCgHyX_",
        "outputId": "7ce838d2-b754-47f4-c2b8-86b36f2d2af4"
      },
      "outputs": [
        {
          "output_type": "stream",
          "name": "stdout",
          "text": [
            "Hello World\n"
          ]
        }
      ],
      "source": [
        "print(\"Hello World\")"
      ]
    },
    {
      "cell_type": "markdown",
      "source": [
        "$\\sqrt{3x-1}+(1+x)^2$\n"
      ],
      "metadata": {
        "id": "tLvKqExh2Gw2"
      }
    },
    {
      "cell_type": "code",
      "source": [],
      "metadata": {
        "id": "DiyNWI5wJho9"
      },
      "execution_count": null,
      "outputs": []
    },
    {
      "cell_type": "markdown",
      "source": [
        "# Программа работы с блоками"
      ],
      "metadata": {
        "id": "kdN9xPZp7Ly8"
      }
    },
    {
      "cell_type": "code",
      "source": [
        "# Перекодировка с CS\n",
        "# Простой цикл while\n",
        "i=7\n",
        "while i<=10:\n",
        "    print(i)\n",
        "    i=i+1    \n",
        "print(\"\")\n",
        "print(\"\")\n",
        "# Условный оператор\n",
        "a=1\n",
        "b=5\n",
        "if a==b:\n",
        "    print(\"a равно b\")\n",
        "else:\n",
        "    print(\"a не равно b\")    \n",
        "print(\"\")\n",
        "print(\"\")\n",
        "# Функция с параметром - контроль делимости на 3\n",
        "def function_3(a):\n",
        "    if a%3==0: \n",
        "        print(\"Число делится на 3\")\n",
        "    else:\n",
        "        print(\"Число не делится на 3\")        \n",
        "function_3(9)\n",
        "function_3(10)\n",
        "# Перекодировка с PHP\n",
        "# Простой цикл while\n",
        "i=7\n",
        "while i<=10:\n",
        "    print(i)\n",
        "    i=i+1    \n",
        "print(\"\")\n",
        "print(\"\")\n",
        "# Условный оператор\n",
        "a=1\n",
        "b=5\n",
        "if a==b:\n",
        "    print(\"a равно b\")\n",
        "else:\n",
        "    print(\"a не равно b\")    \n",
        "print(\"\")\n",
        "print(\"\")    \n",
        "# Функция с параметром - контроль делимости на 3\n",
        "def function_3(a):\n",
        "    if a%3==0: \n",
        "        print(\"Число делится на 3\")\n",
        "    else:\n",
        "        print(\"Число не делится на 3\")        \n",
        "function_3(9)\n",
        "function_3(10)\n"
      ],
      "metadata": {
        "colab": {
          "base_uri": "https://localhost:8080/"
        },
        "id": "8yeJMdeY7qWy",
        "outputId": "82729d7e-782c-4778-f6b9-6753ddc64673"
      },
      "execution_count": null,
      "outputs": [
        {
          "output_type": "stream",
          "name": "stdout",
          "text": [
            "7\n",
            "8\n",
            "9\n",
            "10\n",
            "\n",
            "\n",
            "a не равно b\n",
            "\n",
            "\n",
            "Число делится на 3\n",
            "Число не делится на 3\n",
            "7\n",
            "8\n",
            "9\n",
            "10\n",
            "\n",
            "\n",
            "a не равно b\n",
            "\n",
            "\n",
            "Число делится на 3\n",
            "Число не делится на 3\n"
          ]
        }
      ]
    },
    {
      "cell_type": "code",
      "source": [],
      "metadata": {
        "id": "bTuG0ZYJ-RpZ"
      },
      "execution_count": null,
      "outputs": []
    }
  ]
}